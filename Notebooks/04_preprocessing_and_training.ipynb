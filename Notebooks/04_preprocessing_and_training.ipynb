{
 "cells": [
  {
   "cell_type": "markdown",
   "id": "bd8cc45c",
   "metadata": {},
   "source": [
    "# Pre-processing and creating training data\n",
    "-Create dummy or indicator features for categorical variables\n",
    "-Standardize the magnitude of numeric features using a scaler\n",
    "-Split your data into testing and training datasets"
   ]
  },
  {
   "cell_type": "code",
   "execution_count": 1,
   "id": "a6b50a47",
   "metadata": {},
   "outputs": [],
   "source": [
    "import pandas as pd\n",
    "import numpy as np\n",
    "import os\n",
    "import matplotlib.pyplot as plt\n",
    "import seaborn as sns\n",
    "from sklearn.model_selection import train_test_split\n",
    "from sklearn import preprocessing\n",
    "from sklearn.preprocessing import scale"
   ]
  },
  {
   "cell_type": "code",
   "execution_count": 2,
   "id": "878b4fe7",
   "metadata": {},
   "outputs": [],
   "source": [
    "diabetes_cleaned = pd.read_csv(r'C:\\Users\\ashle\\OneDrive\\Documents\\GitHub\\Capstone-2\\Diabetes_Class_Cleaned.csv', index_col=0)"
   ]
  },
  {
   "cell_type": "code",
   "execution_count": 3,
   "id": "99bf0ec1",
   "metadata": {},
   "outputs": [
    {
     "name": "stdout",
     "output_type": "stream",
     "text": [
      "<class 'pandas.core.frame.DataFrame'>\n",
      "Int64Index: 390 entries, 1 to 390\n",
      "Data columns (total 15 columns):\n",
      " #   Column           Non-Null Count  Dtype  \n",
      "---  ------           --------------  -----  \n",
      " 0   Cholesterol      390 non-null    int64  \n",
      " 1   Glucose          390 non-null    int64  \n",
      " 2   HDL Chol         390 non-null    int64  \n",
      " 3   Chol/HDL ratio   390 non-null    float64\n",
      " 4   Age              390 non-null    int64  \n",
      " 5   Gender           390 non-null    object \n",
      " 6   Height           390 non-null    int64  \n",
      " 7   Weight           390 non-null    int64  \n",
      " 8   BMI              390 non-null    float64\n",
      " 9   Systolic BP      390 non-null    int64  \n",
      " 10  Diastolic BP     390 non-null    int64  \n",
      " 11  waist            390 non-null    int64  \n",
      " 12  hip              390 non-null    int64  \n",
      " 13  Waist/hip ratio  390 non-null    float64\n",
      " 14  Diabetes         390 non-null    object \n",
      "dtypes: float64(3), int64(10), object(2)\n",
      "memory usage: 48.8+ KB\n"
     ]
    }
   ],
   "source": [
    "diabetes_cleaned.info()"
   ]
  },
  {
   "cell_type": "markdown",
   "id": "8ea3741a",
   "metadata": {},
   "source": [
    "### Create dummy features:"
   ]
  },
  {
   "cell_type": "code",
   "execution_count": 4,
   "id": "8c06a9db",
   "metadata": {},
   "outputs": [
    {
     "data": {
      "text/plain": [
       "array(['No diabetes', 'Diabetes'], dtype=object)"
      ]
     },
     "execution_count": 4,
     "metadata": {},
     "output_type": "execute_result"
    }
   ],
   "source": [
    "diabetes_cleaned['Diabetes'].unique()"
   ]
  },
  {
   "cell_type": "code",
   "execution_count": 5,
   "id": "db80b627",
   "metadata": {},
   "outputs": [],
   "source": [
    "diabetes_cleaned['Diabetes'].replace('Diabetes', 1, inplace=True)\n",
    "diabetes_cleaned['Diabetes'].replace('No diabetes', 0, inplace=True)"
   ]
  },
  {
   "cell_type": "code",
   "execution_count": 6,
   "id": "c2aee8e3",
   "metadata": {},
   "outputs": [
    {
     "data": {
      "text/html": [
       "<div>\n",
       "<style scoped>\n",
       "    .dataframe tbody tr th:only-of-type {\n",
       "        vertical-align: middle;\n",
       "    }\n",
       "\n",
       "    .dataframe tbody tr th {\n",
       "        vertical-align: top;\n",
       "    }\n",
       "\n",
       "    .dataframe thead th {\n",
       "        text-align: right;\n",
       "    }\n",
       "</style>\n",
       "<table border=\"1\" class=\"dataframe\">\n",
       "  <thead>\n",
       "    <tr style=\"text-align: right;\">\n",
       "      <th></th>\n",
       "      <th>Cholesterol</th>\n",
       "      <th>Glucose</th>\n",
       "      <th>HDL Chol</th>\n",
       "      <th>Chol/HDL ratio</th>\n",
       "      <th>Age</th>\n",
       "      <th>Gender</th>\n",
       "      <th>Height</th>\n",
       "      <th>Weight</th>\n",
       "      <th>BMI</th>\n",
       "      <th>Systolic BP</th>\n",
       "      <th>Diastolic BP</th>\n",
       "      <th>waist</th>\n",
       "      <th>hip</th>\n",
       "      <th>Waist/hip ratio</th>\n",
       "      <th>Diabetes</th>\n",
       "    </tr>\n",
       "    <tr>\n",
       "      <th>Patient number</th>\n",
       "      <th></th>\n",
       "      <th></th>\n",
       "      <th></th>\n",
       "      <th></th>\n",
       "      <th></th>\n",
       "      <th></th>\n",
       "      <th></th>\n",
       "      <th></th>\n",
       "      <th></th>\n",
       "      <th></th>\n",
       "      <th></th>\n",
       "      <th></th>\n",
       "      <th></th>\n",
       "      <th></th>\n",
       "      <th></th>\n",
       "    </tr>\n",
       "  </thead>\n",
       "  <tbody>\n",
       "    <tr>\n",
       "      <th>1</th>\n",
       "      <td>193</td>\n",
       "      <td>77</td>\n",
       "      <td>49</td>\n",
       "      <td>3.9</td>\n",
       "      <td>19</td>\n",
       "      <td>female</td>\n",
       "      <td>61</td>\n",
       "      <td>119</td>\n",
       "      <td>22.5</td>\n",
       "      <td>118</td>\n",
       "      <td>70</td>\n",
       "      <td>32</td>\n",
       "      <td>38</td>\n",
       "      <td>0.84</td>\n",
       "      <td>0</td>\n",
       "    </tr>\n",
       "    <tr>\n",
       "      <th>2</th>\n",
       "      <td>146</td>\n",
       "      <td>79</td>\n",
       "      <td>41</td>\n",
       "      <td>3.6</td>\n",
       "      <td>19</td>\n",
       "      <td>female</td>\n",
       "      <td>60</td>\n",
       "      <td>135</td>\n",
       "      <td>26.4</td>\n",
       "      <td>108</td>\n",
       "      <td>58</td>\n",
       "      <td>33</td>\n",
       "      <td>40</td>\n",
       "      <td>0.83</td>\n",
       "      <td>0</td>\n",
       "    </tr>\n",
       "    <tr>\n",
       "      <th>3</th>\n",
       "      <td>217</td>\n",
       "      <td>75</td>\n",
       "      <td>54</td>\n",
       "      <td>4.0</td>\n",
       "      <td>20</td>\n",
       "      <td>female</td>\n",
       "      <td>67</td>\n",
       "      <td>187</td>\n",
       "      <td>29.3</td>\n",
       "      <td>110</td>\n",
       "      <td>72</td>\n",
       "      <td>40</td>\n",
       "      <td>45</td>\n",
       "      <td>0.89</td>\n",
       "      <td>0</td>\n",
       "    </tr>\n",
       "    <tr>\n",
       "      <th>4</th>\n",
       "      <td>226</td>\n",
       "      <td>97</td>\n",
       "      <td>70</td>\n",
       "      <td>3.2</td>\n",
       "      <td>20</td>\n",
       "      <td>female</td>\n",
       "      <td>64</td>\n",
       "      <td>114</td>\n",
       "      <td>19.6</td>\n",
       "      <td>122</td>\n",
       "      <td>64</td>\n",
       "      <td>31</td>\n",
       "      <td>39</td>\n",
       "      <td>0.79</td>\n",
       "      <td>0</td>\n",
       "    </tr>\n",
       "    <tr>\n",
       "      <th>5</th>\n",
       "      <td>164</td>\n",
       "      <td>91</td>\n",
       "      <td>67</td>\n",
       "      <td>2.4</td>\n",
       "      <td>20</td>\n",
       "      <td>female</td>\n",
       "      <td>70</td>\n",
       "      <td>141</td>\n",
       "      <td>20.2</td>\n",
       "      <td>122</td>\n",
       "      <td>86</td>\n",
       "      <td>32</td>\n",
       "      <td>39</td>\n",
       "      <td>0.82</td>\n",
       "      <td>0</td>\n",
       "    </tr>\n",
       "  </tbody>\n",
       "</table>\n",
       "</div>"
      ],
      "text/plain": [
       "                Cholesterol  Glucose  HDL Chol  Chol/HDL ratio  Age  Gender  \\\n",
       "Patient number                                                                \n",
       "1                       193       77        49             3.9   19  female   \n",
       "2                       146       79        41             3.6   19  female   \n",
       "3                       217       75        54             4.0   20  female   \n",
       "4                       226       97        70             3.2   20  female   \n",
       "5                       164       91        67             2.4   20  female   \n",
       "\n",
       "                Height  Weight   BMI  Systolic BP  Diastolic BP  waist  hip  \\\n",
       "Patient number                                                                \n",
       "1                   61     119  22.5          118            70     32   38   \n",
       "2                   60     135  26.4          108            58     33   40   \n",
       "3                   67     187  29.3          110            72     40   45   \n",
       "4                   64     114  19.6          122            64     31   39   \n",
       "5                   70     141  20.2          122            86     32   39   \n",
       "\n",
       "                Waist/hip ratio  Diabetes  \n",
       "Patient number                             \n",
       "1                          0.84         0  \n",
       "2                          0.83         0  \n",
       "3                          0.89         0  \n",
       "4                          0.79         0  \n",
       "5                          0.82         0  "
      ]
     },
     "execution_count": 6,
     "metadata": {},
     "output_type": "execute_result"
    }
   ],
   "source": [
    "diabetes_cleaned.head()"
   ]
  },
  {
   "cell_type": "code",
   "execution_count": 7,
   "id": "2cb3ec17",
   "metadata": {},
   "outputs": [],
   "source": [
    "diabetes_cleaned = pd.get_dummies(diabetes_cleaned)"
   ]
  },
  {
   "cell_type": "code",
   "execution_count": 8,
   "id": "aa60bea8",
   "metadata": {},
   "outputs": [
    {
     "data": {
      "text/plain": [
       "0    330\n",
       "1     60\n",
       "Name: Diabetes, dtype: int64"
      ]
     },
     "execution_count": 8,
     "metadata": {},
     "output_type": "execute_result"
    }
   ],
   "source": [
    "class_counts = diabetes_cleaned['Diabetes'].value_counts()\n",
    "class_counts"
   ]
  },
  {
   "cell_type": "code",
   "execution_count": 9,
   "id": "fe963099",
   "metadata": {},
   "outputs": [
    {
     "data": {
      "text/plain": [
       "0    84.615385\n",
       "1    15.384615\n",
       "dtype: float64"
      ]
     },
     "execution_count": 9,
     "metadata": {},
     "output_type": "execute_result"
    }
   ],
   "source": [
    "class_percentages = pd.Series([(x / diabetes_cleaned.shape[0]) * 100.00 for x in class_counts])\n",
    "class_percentages"
   ]
  },
  {
   "cell_type": "markdown",
   "id": "894b939d",
   "metadata": {},
   "source": [
    "### Standardize the data:"
   ]
  },
  {
   "cell_type": "code",
   "execution_count": 10,
   "id": "1fb8a2d5",
   "metadata": {},
   "outputs": [],
   "source": [
    "scaler = preprocessing.StandardScaler()\n",
    "columns = diabetes_cleaned.columns"
   ]
  },
  {
   "cell_type": "code",
   "execution_count": 11,
   "id": "a3996b54",
   "metadata": {},
   "outputs": [],
   "source": [
    "scaled_df = scaler.fit_transform(diabetes_cleaned) \n",
    "scaled_df = pd.DataFrame(scaled_df, columns=columns)"
   ]
  },
  {
   "cell_type": "markdown",
   "id": "68d46454",
   "metadata": {},
   "source": [
    "### Train and test data:"
   ]
  },
  {
   "cell_type": "code",
   "execution_count": 12,
   "id": "6404d31d",
   "metadata": {},
   "outputs": [],
   "source": [
    "y=scaled_df.pop('Diabetes')\n",
    "X=scaled_df\n",
    "X_train, X_test, y_train, y_test=train_test_split(X, y, test_size = 0.25, random_state = 246)"
   ]
  }
 ],
 "metadata": {
  "kernelspec": {
   "display_name": "Python 3 (ipykernel)",
   "language": "python",
   "name": "python3"
  },
  "language_info": {
   "codemirror_mode": {
    "name": "ipython",
    "version": 3
   },
   "file_extension": ".py",
   "mimetype": "text/x-python",
   "name": "python",
   "nbconvert_exporter": "python",
   "pygments_lexer": "ipython3",
   "version": "3.9.13"
  }
 },
 "nbformat": 4,
 "nbformat_minor": 5
}
